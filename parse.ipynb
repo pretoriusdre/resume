{
 "cells": [
  {
   "cell_type": "code",
   "execution_count": 3,
   "metadata": {},
   "outputs": [],
   "source": [
    "import json\n",
    "import pyperclip\n",
    "\n",
    "\n",
    "def get_node_template(title):\n",
    "    node = {\n",
    "    \"data\": {\n",
    "      \"title\": title\n",
    "    },\n",
    "    \"meta\": {\n",
    "      \"element\": \"span\",\n",
    "      \"attributes\": {},\n",
    "      \"collapsed\": False,\n",
    "      \"hidden\": False\n",
    "      },\n",
    "      \"children\" : []\n",
    "    }\n",
    "    return node\n",
    "    \n",
    "\n",
    "\"\"\"  \n",
    "Copy paste resume content from a text file\n",
    "Node data should be indented to build the hierarchy, eg:\n",
    "\n",
    "\n",
    "Name (Apply \"element\" : \"h1\")\n",
    "Work Experience  (Apply \"element\" : \"h2\")\n",
    "    Job 1 (Apply \"element\" : \"h3\")\n",
    "        Project 1\n",
    "        Project 2\n",
    "    Job 2\n",
    "Skills\n",
    "    Skill 1\n",
    "    Skill 2\n",
    "        Evidence 1\n",
    "        Evidence 2       \n",
    "        Evidence 3\n",
    "\n",
    "etc\n",
    "\n",
    "Html is auto built from JSON as follows:\n",
    "<element [...attributes]>title</element>\n",
    "\n",
    "\"\"\"\n",
    "\n",
    "\n",
    "text_input = pyperclip.paste()\n",
    "lines = text_input.split('\\n')\n",
    "node_tree = get_node_template('root')\n",
    "nodes_by_depth = {0 : node_tree}\n",
    "depth = 0\n",
    "\n",
    "for line in lines:\n",
    "    text = line.lstrip(' ')  # Currently assumes four spaces, not tabs\n",
    "    new_depth = (len(line) - len(text))  // 4 + 1\n",
    "    text = text.strip()\n",
    "    new_node = get_node_template(text)\n",
    "    parent_node = nodes_by_depth[new_depth - 1]\n",
    "    parent_node[\"children\"].append(new_node)\n",
    "    nodes_by_depth[new_depth] = new_node\n",
    "\n",
    "\n",
    "json_str = json.dumps(node_tree, indent=4)\n",
    "pyperclip.copy(json_str)"
   ]
  }
 ],
 "metadata": {
  "kernelspec": {
   "display_name": "base",
   "language": "python",
   "name": "python3"
  },
  "language_info": {
   "codemirror_mode": {
    "name": "ipython",
    "version": 3
   },
   "file_extension": ".py",
   "mimetype": "text/x-python",
   "name": "python",
   "nbconvert_exporter": "python",
   "pygments_lexer": "ipython3",
   "version": "3.9.7 (default, Sep 16 2021, 16:59:28) [MSC v.1916 64 bit (AMD64)]"
  },
  "orig_nbformat": 4,
  "vscode": {
   "interpreter": {
    "hash": "cc8e5058f68ae25fd0b682edbcb4bd875f373e41e844c915b7302617da639678"
   }
  }
 },
 "nbformat": 4,
 "nbformat_minor": 2
}
