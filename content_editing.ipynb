{
 "cells": [
  {
   "cell_type": "code",
   "execution_count": 1,
   "metadata": {},
   "outputs": [],
   "source": [
    "from pathlib import Path\n",
    "import json\n",
    "import uuid"
   ]
  },
  {
   "cell_type": "markdown",
   "metadata": {},
   "source": [
    "### Load the JSON file for processing / adjustment"
   ]
  },
  {
   "cell_type": "code",
   "execution_count": 2,
   "metadata": {},
   "outputs": [],
   "source": [
    "source_file = Path('public/data/sample/resume_content.json')\n",
    "\n",
    "with open(source_file, 'rt') as f:\n",
    "    data = json.load(f)"
   ]
  },
  {
   "cell_type": "code",
   "execution_count": 3,
   "metadata": {},
   "outputs": [],
   "source": [
    "# Recursion function. Applies another function to each node in the tree.\n",
    "def recurse_tree(data, fn, depth=0):\n",
    "    \n",
    "    if isinstance(data, list):\n",
    "        depth += 1\n",
    "        for node in data:\n",
    "            recurse_tree(node, fn, depth=depth)\n",
    "    else:\n",
    "        fn(data, depth)\n",
    "        children = data.get('children') or []\n",
    "        recurse_tree(children, fn, depth=depth)"
   ]
  },
  {
   "cell_type": "markdown",
   "metadata": {},
   "source": [
    "#### Print the strucutre"
   ]
  },
  {
   "cell_type": "code",
   "execution_count": 4,
   "metadata": {},
   "outputs": [
    {
     "name": "stdout",
     "output_type": "stream",
     "text": [
      "|  ***b76d - Your Name Here\n",
      "|  |  ***e9d8 - Your job title\n",
      "|  |  ***616f - Contact details\n",
      "|  |  |  ***9560 - Email\n",
      "|  |  |  |  ***9a7b - mail@example.com\n",
      "|  |  |  ***65de - Address\n",
      "|  |  |  |  ***6d7a - You might not want to put your exact address on an online resume...\n",
      "|  |  |  ***6faa - Phone\n",
      "|  |  |  |  ***a204 - 555-xxx-xxx\n",
      "|  |  |  ***c9f3 - LinkedIn\n",
      "|  |  |  |  ***2fed - https://www.linkedin.com/\n",
      "|  |  ***b8be - Career statement\n",
      "|  |  |  ***5a03 - Lorem ipsum dolor sit amet, consectetur adipiscing elit. Curabitur molestie con..\n",
      "|  |  |  ***cfe9 - Morbi vitae enim nec elit laoreet volutpat eu at nulla. Nulla rutrum dolor quis..\n",
      "|  |  ***d739 - Work experience\n",
      "|  |  |  ***98fa - Role 3, Employer 3, 2020-01-01 to present\n",
      "|  |  |  |  ***5348 - Main activity 1\n",
      "|  |  |  |  |  ***65a1 - Additional detail 1\n",
      "|  |  |  |  |  ***9cb2 - Additional detail 2\n",
      "|  |  |  |  |  ***ec69 - Additional detail 3\n",
      "|  |  |  |  ***5709 - Main activity 2\n",
      "|  |  |  |  |  ***3667 - Going deeper\n",
      "|  |  |  |  |  |  ***fb49 - Going deeper\n",
      "|  |  |  |  |  |  |  ***9fc9 - Going deeper\n",
      "|  |  |  |  |  |  |  |  ***bb84 - This might be too much...\n",
      "|  |  |  |  ***7b9e - Main activity 3 (expand for image)\n",
      "|  |  |  |  |  ***3ebf - Placeholder\n",
      "|  |  |  ***16bb - Role 2, Employer 2, 2015-06-01 to 2019-12-31\n",
      "|  |  |  |  ***5b7d - Main activity 1\n",
      "|  |  |  |  |  ***6b2c - Additional detail 1\n",
      "|  |  |  |  |  ***de8a - Additional detail 2\n",
      "|  |  |  |  |  ***a7e8 - Additional detail 3\n",
      "|  |  |  |  ***2b5d - Main activity 2\n",
      "|  |  |  |  |  ***ede1 - Additional detail 1\n",
      "|  |  |  |  |  ***69be - Additional detail 2\n",
      "|  |  |  |  |  ***c4d0 - Additional detail 3\n",
      "|  |  |  |  ***0ab4 - Main activity 3\n",
      "|  |  |  ***2b72 - Role 1, Employer 1, 2010-01-01 to 2015-05-31\n",
      "|  |  |  |  ***99e5 - Placeholder\n",
      "|  |  ***ce5a - Skills\n",
      "|  |  |  ***5ee3 - Skill 1 (expand for image)\n",
      "|  |  |  |  ***23d9 - Supporting evidence of skill 1\n",
      "|  |  |  |  ***af97 - Supporting evidence of skill 1\n",
      "|  |  |  |  ***fb5b - Supporting evidence of skill 1\n",
      "|  |  |  |  ***7352 - sample_image_3\n",
      "|  |  |  ***6786 - Skill 2\n",
      "|  |  |  |  ***2273 - Supporting evidence of skill 2\n",
      "|  |  |  |  ***49b7 - Supporting evidence of skill 2\n",
      "|  |  |  |  ***2d6d - Supporting evidence of skill 2\n",
      "|  |  |  ***e0e3 - Skill 3\n",
      "|  |  |  |  ***083e - Supporting evidence of skill 3\n",
      "|  |  |  |  ***aa0f - Supporting evidence of skill 3\n",
      "|  |  |  |  ***ae43 - Supporting evidence of skill 3\n",
      "|  |  |  |  ***cf1b - Supporting evidence of skill 3\n",
      "|  |  |  |  ***0aa0 - sample_image_2.png\n",
      "|  |  ***b3e2 - Example hidden section\n",
      "|  |  |  ***73af - Example hidden content\n",
      "|  |  ***3384 - References\n",
      "|  |  |  ***8232 - Available upon request.\n"
     ]
    }
   ],
   "source": [
    "def print_node(node, depth):\n",
    "    line = ''\n",
    "    line = '|  ' * depth\n",
    "    line += '***' + node['id'][-4:] + ' - '\n",
    "    line += node['value']\n",
    "    line = line[:98]\n",
    "    if len(line) == 98:\n",
    "        line += '..'\n",
    "    print(line)\n",
    "\n",
    "\n",
    "recurse_tree(data, print_node)"
   ]
  },
  {
   "cell_type": "markdown",
   "metadata": {},
   "source": [
    "#### Update UUIDs"
   ]
  },
  {
   "cell_type": "code",
   "execution_count": 5,
   "metadata": {},
   "outputs": [],
   "source": [
    "def add_uuid(node, depth):\n",
    "    node['id'] = str(uuid.uuid4())\n",
    "\n",
    "recurse_tree(data, add_uuid)"
   ]
  },
  {
   "cell_type": "markdown",
   "metadata": {},
   "source": [
    "#### Save changes"
   ]
  },
  {
   "cell_type": "code",
   "execution_count": 6,
   "metadata": {},
   "outputs": [],
   "source": [
    "res = input('Type \"X\" to update the source file: ')\n",
    "if res.upper() == 'X':\n",
    "    with open(source_file, 'wt') as f:\n",
    "        json_str = json.dumps(data, indent=4)\n",
    "        f.write(json_str)"
   ]
  }
 ],
 "metadata": {
  "kernelspec": {
   "display_name": "base",
   "language": "python",
   "name": "python3"
  },
  "language_info": {
   "codemirror_mode": {
    "name": "ipython",
    "version": 3
   },
   "file_extension": ".py",
   "mimetype": "text/x-python",
   "name": "python",
   "nbconvert_exporter": "python",
   "pygments_lexer": "ipython3",
   "version": "3.9.7"
  }
 },
 "nbformat": 4,
 "nbformat_minor": 2
}
